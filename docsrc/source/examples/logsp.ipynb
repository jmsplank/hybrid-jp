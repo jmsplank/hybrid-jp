{
 "cells": [
  {
   "cell_type": "markdown",
   "metadata": {},
   "source": [
    "# Demonstration of `logspaced_edges()` function"
   ]
  },
  {
   "cell_type": "code",
   "execution_count": 1,
   "metadata": {},
   "outputs": [],
   "source": [
    "import matplotlib.pyplot as plt\n",
    "import numpy as np\n",
    "\n",
    "import hybrid_jp as hj"
   ]
  },
  {
   "cell_type": "code",
   "execution_count": 2,
   "metadata": {},
   "outputs": [],
   "source": [
    "def logspaced_edges(arr: hj.arrfloat | hj.arrint) -> hj.arrfloat:\n",
    "    \"\"\"Expand a (possibly uneven but approximately) logarithmically spaced arr to edges.\n",
    "\n",
    "    `arr` is shape (N,), therefore the returned array is shape (N+1,). The end points\n",
    "    are given by n_0 - (n_1 - n_0)/2 and n_N + (n_N - n_{N-1})/2 for an array\n",
    "    (n_0...n_N) = log10(arr). The spacing between values of the array is preserved, this\n",
    "    is useful in the case of integer logspaced arrays where diff(log10(arr)) is not\n",
    "    constant do to integer rounding. So, each value in the new array is half of the\n",
    "    separation between the original values.\n",
    "\n",
    "    Args:\n",
    "        arr (hj.arrfloat | hj.arrint): Array of values.\n",
    "\n",
    "    Returns:\n",
    "        hj.arrfloat: Array of edges.\n",
    "\n",
    "    Example:\n",
    "        >>> import matplotlib.pyplot as plt\n",
    "        >>> import numpy as np\n",
    "        >>> arr = np.unique(np.logspace(0, 2, 15, dtype=np.int32))\n",
    "        >>> brr = logspaced_edges(arr)\n",
    "        >>> fig, axs = plt.subplots(2, 1, figsize=(8, 2))\n",
    "        >>> axlin, axlog = axs\n",
    "        >>> orig = axlin.scatter(arr, np.zeros_like(arr), marker=\"x\", color=\"k\")\n",
    "        >>> new = axlin.scatter(brr, np.zeros_like(brr), marker=\"+\", color=\"r\")\n",
    "        >>> orig = axlog.scatter(arr, np.zeros_like(arr), marker=\"x\", color=\"k\")\n",
    "        >>> new = axlog.scatter(brr, np.zeros_like(brr), marker=\"+\", color=\"r\")\n",
    "        >>> axlog.set_xscale(\"log\")\n",
    "        >>> axlin.set_title(\"Linear scale\")\n",
    "        >>> axlog.set_title(\"Log scale\")\n",
    "        >>> axlin.set_yticks([])\n",
    "        >>> axlog.set_yticks([])\n",
    "        >>> axlog.set_xlabel(\"'x' = original, '+' = bin edges\")\n",
    "        >>> fig.tight_layout()\n",
    "        >>> plt.show()\n",
    "    \"\"\"\n",
    "    log_arr = np.log10(arr)  # log scale array\n",
    "    log_diff = np.diff(log_arr)  # log difference\n",
    "\n",
    "    # Add points on either side of log scaled array, equidistant\n",
    "    # Original:     +....+....+..+....+....+..+....+....+\n",
    "    # New:     +....+....+....+..+....+....+..+....+....+....+\n",
    "    log_wide = np.asarray(\n",
    "        [log_arr[0] - log_diff[0]] + log_arr.tolist() + [log_arr[-1] + log_diff[-1]]\n",
    "    )\n",
    "    log_wiff = np.diff(log_wide)  # Difference of longer array\n",
    "\n",
    "    # Half of total difference between point i and i+2\n",
    "    #        +....+....+....+..+....+....+..+....+....+....+\n",
    "    # Diff:    4    4    4   2   4    4   2   4    4    4\n",
    "    # Offset        4    4   4   2    4   4   2    4    4     4\n",
    "    # 1/2 diff:     4    4   3   3    4   3   3    8    8\n",
    "    log_diff = (log_wiff[:-1] + log_wiff[1:]) / 2\n",
    "\n",
    "    # First point in new arr is half way between first two points in wide arr or\n",
    "    # equivalently half of the difference between first and second points in original\n",
    "    # arr behind the first point.\n",
    "    first_point = (log_wide[0] + log_wide[1]) / 2\n",
    "    lags_wide = np.ones(log_arr.size + 1) * first_point\n",
    "\n",
    "    # Successive points created by adding the cumulative distance of that point from the\n",
    "    # first point\n",
    "    lags_wide[1:] = lags_wide[1:] + np.cumsum(log_diff)\n",
    "    lags_wide = 10 ** (lags_wide)  # Rescale out of log space\n",
    "    return lags_wide\n",
    "\n"
   ]
  },
  {
   "cell_type": "markdown",
   "metadata": {},
   "source": [
    "Create an array of approximately log-spaced data, approximately because each value is\n",
    "rounded to the nearest integer.\n",
    "\n",
    "`brr` is the array of bin edges, generated from the array `arr` of bin centres."
   ]
  },
  {
   "cell_type": "code",
   "execution_count": 3,
   "metadata": {},
   "outputs": [],
   "source": [
    "\n",
    "arr = np.unique(np.logspace(0, 2, 15, dtype=np.int32))\n",
    "brr = logspaced_edges(arr)"
   ]
  },
  {
   "cell_type": "markdown",
   "metadata": {},
   "source": [
    "Plot the data on a `number line`."
   ]
  },
  {
   "cell_type": "code",
   "execution_count": 7,
   "metadata": {},
   "outputs": [
    {
     "data": {
      "image/png": "[encoded data removed]",
      "text/plain": [
       "<Figure size 800x200 with 2 Axes>"
      ]
     },
     "metadata": {},
     "output_type": "display_data"
    }
   ],
   "source": [
    "\n",
    "axs: list[plt.Axes]\n",
    "fig, axs = plt.subplots(2, 1, figsize=(8, 2))  # type: ignore\n",
    "axlin, axlog = axs\n",
    "orig = axlin.scatter(arr, np.zeros_like(arr), marker=\"x\", color=\"k\")  # type: ignore\n",
    "new = axlin.scatter(brr, np.zeros_like(brr), marker=\"+\", color=\"r\")  # type: ignore\n",
    "orig = axlog.scatter(arr, np.zeros_like(arr), marker=\"x\", color=\"k\")  # type: ignore\n",
    "new = axlog.scatter(brr, np.zeros_like(brr), marker=\"+\", color=\"r\")  # type: ignore\n",
    "axlog.set_xscale(\"log\")\n",
    "axlin.set_title(\"Linear scale\")\n",
    "axlog.set_title(\"Log scale\")\n",
    "axlin.set_yticks([])\n",
    "axlog.set_yticks([])\n",
    "axlog.set_xlabel(\"'x' = original, '+' = bin edges\")\n",
    "fig.tight_layout()"
   ]
  }
 ],
 "metadata": {
  "kernelspec": {
   "display_name": "hybridjp",
   "language": "python",
   "name": "python3"
  },
  "language_info": {
   "codemirror_mode": {
    "name": "ipython",
    "version": 3
   },
   "file_extension": ".py",
   "mimetype": "text/x-python",
   "name": "python",
   "nbconvert_exporter": "python",
   "pygments_lexer": "ipython3",
   "version": "3.11.5"
  },
  "orig_nbformat": 4
 },
 "nbformat": 4,
 "nbformat_minor": 2
}
